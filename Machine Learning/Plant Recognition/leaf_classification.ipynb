{
  "nbformat": 4,
  "nbformat_minor": 0,
  "metadata": {
    "kernelspec": {
      "display_name": "Python 3",
      "language": "python",
      "name": "python3"
    },
    "language_info": {
      "codemirror_mode": {
        "name": "ipython",
        "version": 3
      },
      "file_extension": ".py",
      "mimetype": "text/x-python",
      "name": "python",
      "nbconvert_exporter": "python",
      "pygments_lexer": "ipython3",
      "version": "3.7.1"
    },
    "colab": {
      "name": "leaf_classification.ipynb",
      "provenance": []
    }
  },
  "cells": [
    {
      "cell_type": "code",
      "metadata": {
        "id": "p1xMiMS4xm8G"
      },
      "source": [
        "import numpy as np\n",
        "import tensorflow as tf\n",
        "import pandas as pd\n",
        "import matplotlib.pyplot as plt\n",
        "import matplotlib.image as mpimg\n",
        "from keras.preprocessing.image import ImageDataGenerator\n",
        "from keras.models import Sequential \n",
        "from keras.layers import Conv2D, MaxPooling2D, Activation, Dropout, Flatten, Dense\n",
        "from tensorflow.keras.optimizers import RMSprop\n",
        "from keras.preprocessing import image\n",
        "import os\n",
        "from glob import glob\n",
        "from tensorflow.keras.models import load_model"
      ],
      "execution_count": 6,
      "outputs": []
    },
    {
      "cell_type": "code",
      "metadata": {
        "colab": {
          "base_uri": "https://localhost:8080/"
        },
        "id": "XutlZpY7yE6k",
        "outputId": "137c1b77-f689-4087-bbcb-2c884a697493"
      },
      "source": [
        "from google.colab import drive\n",
        "drive.mount('/content/drive')"
      ],
      "execution_count": 2,
      "outputs": [
        {
          "output_type": "stream",
          "text": [
            "Go to this URL in a browser: https://accounts.google.com/o/oauth2/auth?client_id=947318989803-6bn6qk8qdgf4n4g3pfee6491hc0brc4i.apps.googleusercontent.com&redirect_uri=urn%3aietf%3awg%3aoauth%3a2.0%3aoob&scope=email%20https%3a%2f%2fwww.googleapis.com%2fauth%2fdocs.test%20https%3a%2f%2fwww.googleapis.com%2fauth%2fdrive%20https%3a%2f%2fwww.googleapis.com%2fauth%2fdrive.photos.readonly%20https%3a%2f%2fwww.googleapis.com%2fauth%2fpeopleapi.readonly%20https%3a%2f%2fwww.googleapis.com%2fauth%2fdrive.activity.readonly%20https%3a%2f%2fwww.googleapis.com%2fauth%2fexperimentsandconfigs%20https%3a%2f%2fwww.googleapis.com%2fauth%2fphotos.native&response_type=code\n",
            "\n",
            "Enter your authorization code:\n",
            "4/1AY0e-g52IH0nzocxjXk2vcoHpQRUMvPvsTSXC795IdmnusNXw9DgR520KxQ\n"
          ],
          "name": "stdout"
        },
        {
          "output_type": "stream",
          "text": [
            "Mounted at /content/drive\n"
          ],
          "name": "stdout"
        }
      ]
    },
    {
      "cell_type": "code",
      "metadata": {
        "id": "H-ihAliyxm8M"
      },
      "source": [
        "train_dir = '/content/drive/MyDrive/100 leaves/training'\n",
        "test_dir =  '/content/drive/MyDrive/100 leaves/testing'"
      ],
      "execution_count": null,
      "outputs": []
    },
    {
      "cell_type": "code",
      "metadata": {
        "id": "xTOoxv00xm8N"
      },
      "source": [
        "leafCountUnique = glob(train_dir + '/*' )\n",
        "numberOfClass = len(leafCountUnique)"
      ],
      "execution_count": null,
      "outputs": []
    },
    {
      "cell_type": "code",
      "metadata": {
        "colab": {
          "base_uri": "https://localhost:8080/"
        },
        "id": "UwpeS_8kxm8N",
        "outputId": "2792b98e-51b2-4337-bc83-c20a7ae87298"
      },
      "source": [
        "model = Sequential()\n",
        "model.add(Conv2D(32,(3,3),input_shape = (100, 100, 3)))\n",
        "model.add(Activation(\"relu\"))\n",
        "model.add(MaxPooling2D())\n",
        "\n",
        "model.add(Conv2D(32,(3,3)))\n",
        "model.add(Activation(\"relu\"))\n",
        "model.add(MaxPooling2D())\n",
        "\n",
        "model.add(Conv2D(64,(3,3)))\n",
        "model.add(Activation(\"relu\"))\n",
        "model.add(MaxPooling2D())\n",
        "\n",
        "model.add(Flatten())\n",
        "model.add(Dropout(0.5))\n",
        "model.add(Dense(1024))\n",
        "model.add(Activation(\"relu\"))\n",
        "model.add(Dense(100)) # output\n",
        "model.add(Activation(\"softmax\"))\n",
        "# summary of the model\n",
        "model.summary()\n",
        "\n",
        "# configure the model for training by adding metrics\n",
        "model.compile(loss='categorical_crossentropy', optimizer=\"rmsprop\", metrics = ['acc'])"
      ],
      "execution_count": null,
      "outputs": [
        {
          "output_type": "stream",
          "text": [
            "Model: \"sequential\"\n",
            "_________________________________________________________________\n",
            "Layer (type)                 Output Shape              Param #   \n",
            "=================================================================\n",
            "conv2d (Conv2D)              (None, 318, 222, 32)      896       \n",
            "_________________________________________________________________\n",
            "activation (Activation)      (None, 318, 222, 32)      0         \n",
            "_________________________________________________________________\n",
            "max_pooling2d (MaxPooling2D) (None, 159, 111, 32)      0         \n",
            "_________________________________________________________________\n",
            "conv2d_1 (Conv2D)            (None, 157, 109, 32)      9248      \n",
            "_________________________________________________________________\n",
            "activation_1 (Activation)    (None, 157, 109, 32)      0         \n",
            "_________________________________________________________________\n",
            "max_pooling2d_1 (MaxPooling2 (None, 78, 54, 32)        0         \n",
            "_________________________________________________________________\n",
            "conv2d_2 (Conv2D)            (None, 76, 52, 64)        18496     \n",
            "_________________________________________________________________\n",
            "activation_2 (Activation)    (None, 76, 52, 64)        0         \n",
            "_________________________________________________________________\n",
            "max_pooling2d_2 (MaxPooling2 (None, 38, 26, 64)        0         \n",
            "_________________________________________________________________\n",
            "flatten (Flatten)            (None, 63232)             0         \n",
            "_________________________________________________________________\n",
            "dropout (Dropout)            (None, 63232)             0         \n",
            "_________________________________________________________________\n",
            "dense (Dense)                (None, 1024)              64750592  \n",
            "_________________________________________________________________\n",
            "activation_3 (Activation)    (None, 1024)              0         \n",
            "_________________________________________________________________\n",
            "dense_1 (Dense)              (None, 100)               102500    \n",
            "_________________________________________________________________\n",
            "activation_4 (Activation)    (None, 100)               0         \n",
            "=================================================================\n",
            "Total params: 64,881,732\n",
            "Trainable params: 64,881,732\n",
            "Non-trainable params: 0\n",
            "_________________________________________________________________\n"
          ],
          "name": "stdout"
        }
      ]
    },
    {
      "cell_type": "code",
      "metadata": {
        "id": "qZsH8eABxm8P"
      },
      "source": [
        "epochs = 50  \n",
        "batch_size = 78"
      ],
      "execution_count": null,
      "outputs": []
    },
    {
      "cell_type": "code",
      "metadata": {
        "colab": {
          "base_uri": "https://localhost:8080/"
        },
        "id": "E_WGFDi7xm8P",
        "outputId": "7ced9660-c8d3-4e87-f553-ab6d26d4a25d"
      },
      "source": [
        "train_datagen = ImageDataGenerator(rescale= 1./255,\n",
        "                   shear_range = 0.3,\n",
        "                   horizontal_flip=True,\n",
        "                   zoom_range = 0.3)\n",
        "\n",
        "test_datagen = ImageDataGenerator(rescale= 1./255)\n",
        "\n",
        "train_generator = train_datagen.flow_from_directory(\n",
        "        train_dir, \n",
        "        target_size= (320, 224),\n",
        "        batch_size = batch_size,\n",
        "        color_mode= \"rgb\",\n",
        "        class_mode= \"categorical\")\n",
        "\n",
        "test_generator = test_datagen.flow_from_directory(\n",
        "        test_dir, \n",
        "        target_size= (320, 224),\n",
        "        batch_size = batch_size,\n",
        "        color_mode= \"rgb\",\n",
        "        class_mode= \"categorical\")"
      ],
      "execution_count": null,
      "outputs": [
        {
          "output_type": "stream",
          "text": [
            "Found 1300 images belonging to 100 classes.\n",
            "Found 300 images belonging to 100 classes.\n"
          ],
          "name": "stdout"
        }
      ]
    },
    {
      "cell_type": "code",
      "metadata": {
        "scrolled": true,
        "colab": {
          "base_uri": "https://localhost:8080/"
        },
        "id": "84BXxse1xm8Q",
        "outputId": "efecadc8-bfa5-4ef8-e573-db2ff6f48605"
      },
      "source": [
        "hist = model.fit_generator(\n",
        "        generator = train_generator,\n",
        "        epochs=epochs,\n",
        "        validation_data = test_generator)"
      ],
      "execution_count": null,
      "outputs": [
        {
          "output_type": "stream",
          "text": [
            "/usr/local/lib/python3.7/dist-packages/keras/engine/training.py:1915: UserWarning: `Model.fit_generator` is deprecated and will be removed in a future version. Please use `Model.fit`, which supports generators.\n",
            "  warnings.warn('`Model.fit_generator` is deprecated and '\n"
          ],
          "name": "stderr"
        },
        {
          "output_type": "stream",
          "text": [
            "Epoch 1/50\n",
            "52/52 [==============================] - 152s 3s/step - loss: 0.3392 - acc: 0.9031 - val_loss: 0.8955 - val_acc: 0.8133\n",
            "Epoch 2/50\n",
            "52/52 [==============================] - 152s 3s/step - loss: 0.3691 - acc: 0.8892 - val_loss: 1.1300 - val_acc: 0.7767\n",
            "Epoch 3/50\n",
            "52/52 [==============================] - 152s 3s/step - loss: 0.3440 - acc: 0.8954 - val_loss: 0.8363 - val_acc: 0.8100\n",
            "Epoch 4/50\n",
            "52/52 [==============================] - 151s 3s/step - loss: 0.3543 - acc: 0.8938 - val_loss: 0.9296 - val_acc: 0.8000\n",
            "Epoch 5/50\n",
            "52/52 [==============================] - 151s 3s/step - loss: 0.3547 - acc: 0.8869 - val_loss: 1.0150 - val_acc: 0.7633\n",
            "Epoch 6/50\n",
            "52/52 [==============================] - 151s 3s/step - loss: 0.3457 - acc: 0.8962 - val_loss: 1.0966 - val_acc: 0.7600\n",
            "Epoch 7/50\n",
            "52/52 [==============================] - 151s 3s/step - loss: 0.3510 - acc: 0.8869 - val_loss: 1.7220 - val_acc: 0.6967\n",
            "Epoch 8/50\n",
            "52/52 [==============================] - 151s 3s/step - loss: 0.3455 - acc: 0.8877 - val_loss: 1.4131 - val_acc: 0.7433\n",
            "Epoch 9/50\n",
            "52/52 [==============================] - 151s 3s/step - loss: 0.3272 - acc: 0.8954 - val_loss: 1.4559 - val_acc: 0.7333\n",
            "Epoch 10/50\n",
            "52/52 [==============================] - 154s 3s/step - loss: 0.3279 - acc: 0.8977 - val_loss: 1.0456 - val_acc: 0.7567\n",
            "Epoch 11/50\n",
            "52/52 [==============================] - 151s 3s/step - loss: 0.3284 - acc: 0.8977 - val_loss: 1.5326 - val_acc: 0.7033\n",
            "Epoch 12/50\n",
            "52/52 [==============================] - 151s 3s/step - loss: 0.2673 - acc: 0.9062 - val_loss: 1.4575 - val_acc: 0.7067\n",
            "Epoch 13/50\n",
            "52/52 [==============================] - 151s 3s/step - loss: 0.3399 - acc: 0.8892 - val_loss: 2.3681 - val_acc: 0.6067\n",
            "Epoch 14/50\n",
            "52/52 [==============================] - 151s 3s/step - loss: 0.3134 - acc: 0.8985 - val_loss: 1.5240 - val_acc: 0.7167\n",
            "Epoch 15/50\n",
            "52/52 [==============================] - 151s 3s/step - loss: 0.3362 - acc: 0.9000 - val_loss: 0.9906 - val_acc: 0.7533\n",
            "Epoch 16/50\n",
            "52/52 [==============================] - 151s 3s/step - loss: 0.3097 - acc: 0.9008 - val_loss: 1.3352 - val_acc: 0.7333\n",
            "Epoch 17/50\n",
            "52/52 [==============================] - 151s 3s/step - loss: 0.3076 - acc: 0.9038 - val_loss: 1.0255 - val_acc: 0.8200\n",
            "Epoch 18/50\n",
            "52/52 [==============================] - 151s 3s/step - loss: 0.2975 - acc: 0.9015 - val_loss: 0.9300 - val_acc: 0.8400\n",
            "Epoch 19/50\n",
            "52/52 [==============================] - 154s 3s/step - loss: 0.2934 - acc: 0.9077 - val_loss: 5.8638 - val_acc: 0.4800\n",
            "Epoch 20/50\n",
            "52/52 [==============================] - 154s 3s/step - loss: 0.3242 - acc: 0.8969 - val_loss: 1.4735 - val_acc: 0.7067\n",
            "Epoch 21/50\n",
            "52/52 [==============================] - 154s 3s/step - loss: 0.2682 - acc: 0.9131 - val_loss: 1.1233 - val_acc: 0.8000\n",
            "Epoch 22/50\n",
            "52/52 [==============================] - 151s 3s/step - loss: 0.2878 - acc: 0.8985 - val_loss: 1.9334 - val_acc: 0.7000\n",
            "Epoch 23/50\n",
            "52/52 [==============================] - 151s 3s/step - loss: 0.3303 - acc: 0.8946 - val_loss: 1.1752 - val_acc: 0.7733\n",
            "Epoch 24/50\n",
            "52/52 [==============================] - 151s 3s/step - loss: 0.3222 - acc: 0.9100 - val_loss: 0.8317 - val_acc: 0.8267\n",
            "Epoch 25/50\n",
            "52/52 [==============================] - 151s 3s/step - loss: 0.3152 - acc: 0.8977 - val_loss: 1.1905 - val_acc: 0.7767\n",
            "Epoch 26/50\n",
            "52/52 [==============================] - 151s 3s/step - loss: 0.2825 - acc: 0.9131 - val_loss: 1.6886 - val_acc: 0.7133\n",
            "Epoch 27/50\n",
            "52/52 [==============================] - 151s 3s/step - loss: 0.2532 - acc: 0.9177 - val_loss: 1.3047 - val_acc: 0.7633\n",
            "Epoch 28/50\n",
            "52/52 [==============================] - 151s 3s/step - loss: 0.3002 - acc: 0.9085 - val_loss: 1.6747 - val_acc: 0.6967\n",
            "Epoch 29/50\n",
            "52/52 [==============================] - 151s 3s/step - loss: 0.2710 - acc: 0.9169 - val_loss: 0.8813 - val_acc: 0.8167\n",
            "Epoch 30/50\n",
            "52/52 [==============================] - 151s 3s/step - loss: 0.3035 - acc: 0.9008 - val_loss: 0.9801 - val_acc: 0.8067\n",
            "Epoch 31/50\n",
            "52/52 [==============================] - 151s 3s/step - loss: 0.2584 - acc: 0.9254 - val_loss: 1.0948 - val_acc: 0.8267\n",
            "Epoch 32/50\n",
            "52/52 [==============================] - 151s 3s/step - loss: 0.2908 - acc: 0.9054 - val_loss: 1.4076 - val_acc: 0.7833\n",
            "Epoch 33/50\n",
            "52/52 [==============================] - 151s 3s/step - loss: 0.2756 - acc: 0.9177 - val_loss: 1.3660 - val_acc: 0.7600\n",
            "Epoch 34/50\n",
            "52/52 [==============================] - 151s 3s/step - loss: 0.2981 - acc: 0.9154 - val_loss: 1.0692 - val_acc: 0.8067\n",
            "Epoch 35/50\n",
            "52/52 [==============================] - 151s 3s/step - loss: 0.2747 - acc: 0.9023 - val_loss: 1.2403 - val_acc: 0.7933\n",
            "Epoch 36/50\n",
            "52/52 [==============================] - 151s 3s/step - loss: 0.3006 - acc: 0.9062 - val_loss: 0.9020 - val_acc: 0.8267\n",
            "Epoch 37/50\n",
            "52/52 [==============================] - 151s 3s/step - loss: 0.2624 - acc: 0.9138 - val_loss: 1.0507 - val_acc: 0.8400\n",
            "Epoch 38/50\n",
            "52/52 [==============================] - 151s 3s/step - loss: 0.2297 - acc: 0.9223 - val_loss: 0.9931 - val_acc: 0.8467\n",
            "Epoch 39/50\n",
            "52/52 [==============================] - 151s 3s/step - loss: 0.3128 - acc: 0.9069 - val_loss: 1.2360 - val_acc: 0.8033\n",
            "Epoch 40/50\n",
            "52/52 [==============================] - 151s 3s/step - loss: 0.2722 - acc: 0.9069 - val_loss: 0.9077 - val_acc: 0.8100\n",
            "Epoch 41/50\n",
            "52/52 [==============================] - 151s 3s/step - loss: 0.2516 - acc: 0.9223 - val_loss: 1.1034 - val_acc: 0.8333\n",
            "Epoch 42/50\n",
            "52/52 [==============================] - 151s 3s/step - loss: 0.2472 - acc: 0.9131 - val_loss: 1.0885 - val_acc: 0.8167\n",
            "Epoch 43/50\n",
            "52/52 [==============================] - 151s 3s/step - loss: 0.2583 - acc: 0.9169 - val_loss: 0.9548 - val_acc: 0.8067\n",
            "Epoch 44/50\n",
            "52/52 [==============================] - 151s 3s/step - loss: 0.2457 - acc: 0.9215 - val_loss: 1.0468 - val_acc: 0.7767\n",
            "Epoch 45/50\n",
            "52/52 [==============================] - 151s 3s/step - loss: 0.2573 - acc: 0.9254 - val_loss: 0.7867 - val_acc: 0.8567\n",
            "Epoch 46/50\n",
            "52/52 [==============================] - 154s 3s/step - loss: 0.2926 - acc: 0.9208 - val_loss: 0.9480 - val_acc: 0.8133\n",
            "Epoch 47/50\n",
            "52/52 [==============================] - 154s 3s/step - loss: 0.2633 - acc: 0.9077 - val_loss: 1.7527 - val_acc: 0.7400\n",
            "Epoch 48/50\n",
            "52/52 [==============================] - 151s 3s/step - loss: 0.2445 - acc: 0.9223 - val_loss: 1.3190 - val_acc: 0.7633\n",
            "Epoch 49/50\n",
            "52/52 [==============================] - 151s 3s/step - loss: 0.2223 - acc: 0.9300 - val_loss: 1.6878 - val_acc: 0.7400\n",
            "Epoch 50/50\n",
            "52/52 [==============================] - 151s 3s/step - loss: 0.2734 - acc: 0.9054 - val_loss: 0.8114 - val_acc: 0.8333\n"
          ],
          "name": "stdout"
        }
      ]
    },
    {
      "cell_type": "code",
      "metadata": {
        "id": "_BuRFkPTxm8R"
      },
      "source": [
        "hist.history.keys()"
      ],
      "execution_count": null,
      "outputs": []
    },
    {
      "cell_type": "code",
      "metadata": {
        "id": "TS6ci5KGxm8S"
      },
      "source": [
        "plt.figure()\n",
        "plt.plot(hist.history[\"loss\"],label = \"Train Loss\", color = \"black\")\n",
        "plt.plot(hist.history[\"val_loss\"],label = \"Validation Loss\", color = \"darkred\", linestyle=\"dashed\",markeredgecolor = \"purple\", markeredgewidth = 2)\n",
        "plt.title(\"Model Loss\", color = \"darkred\", size = 13)\n",
        "plt.legend()\n",
        "plt.show()"
      ],
      "execution_count": null,
      "outputs": []
    },
    {
      "cell_type": "code",
      "metadata": {
        "id": "bvHl90d7xm8T"
      },
      "source": [
        "plt.figure()\n",
        "plt.plot(hist.history[\"acc\"],label = \"Train Accuracy\", color = \"black\")\n",
        "plt.plot(hist.history[\"val_acc\"],label = \"Validation Accuracy\", color = \"darkred\", linestyle=\"dashed\",markeredgecolor = \"purple\", markeredgewidth = 2)\n",
        "plt.title(\"Model Accuracy\", color = \"darkred\", size = 13)\n",
        "plt.legend()\n",
        "plt.show()"
      ],
      "execution_count": null,
      "outputs": []
    },
    {
      "cell_type": "code",
      "metadata": {
        "colab": {
          "base_uri": "https://localhost:8080/"
        },
        "id": "aKqPiTeOxm8T",
        "outputId": "8fa45a36-c975-442a-8435-04324f41a634"
      },
      "source": [
        "export_dir = '/content/drive/MyDrive/saved_model/1'\n",
        "\n",
        "# YOUR CODE HERE\n",
        "tf.saved_model.save(model, export_dir)"
      ],
      "execution_count": null,
      "outputs": [
        {
          "output_type": "stream",
          "text": [
            "WARNING:tensorflow:FOR KERAS USERS: The object that you are saving contains one or more Keras models or layers. If you are loading the SavedModel with `tf.keras.models.load_model`, continue reading (otherwise, you may ignore the following instructions). Please change your code to save with `tf.keras.models.save_model` or `model.save`, and confirm that the file \"keras.metadata\" exists in the export directory. In the future, Keras will only load the SavedModels that have this file. In other words, `tf.saved_model.save` will no longer write SavedModels that can be recovered as Keras models (this will apply in TF 2.5).\n",
            "\n",
            "FOR DEVS: If you are overwriting _tracking_metadata in your class, this property has been used to save metadata in the SavedModel. The metadta field will be deprecated soon, so please move the metadata to a different file.\n",
            "INFO:tensorflow:Assets written to: /content/drive/MyDrive/saved_model/1/assets\n"
          ],
          "name": "stdout"
        }
      ]
    },
    {
      "cell_type": "code",
      "metadata": {
        "id": "NFmbiZCXxm8U",
        "outputId": "a28acb9c-e677-4e55-f7ec-0f02e242ef9f"
      },
      "source": [
        "import cv2\n",
        "# Set the image path\n",
        "img_path = '1.jpg'\n",
        "# Read the image\n",
        "image = cv2.imread(img_path)\n",
        "print(image.shape)"
      ],
      "execution_count": null,
      "outputs": [
        {
          "output_type": "stream",
          "text": [
            "(555, 601, 3)\n"
          ],
          "name": "stdout"
        }
      ]
    },
    {
      "cell_type": "code",
      "metadata": {
        "colab": {
          "base_uri": "https://localhost:8080/"
        },
        "id": "nvj6Py_v46Ug",
        "outputId": "be3021ba-4636-401d-9a85-3109a361cc02"
      },
      "source": [
        "model = load_model('/content/drive/MyDrive/saved_model/1', compile = True)\n",
        "model.summary()"
      ],
      "execution_count": 7,
      "outputs": [
        {
          "output_type": "stream",
          "text": [
            "WARNING:tensorflow:SavedModel saved prior to TF 2.5 detected when loading Keras model. Please ensure that you are saving the model with model.save() or tf.keras.models.save_model(), *NOT* tf.saved_model.save(). To confirm, there should be a file named \"keras_metadata.pb\" in the SavedModel directory.\n",
            "Model: \"sequential_2\"\n",
            "_________________________________________________________________\n",
            "Layer (type)                 Output Shape              Param #   \n",
            "=================================================================\n",
            "conv2d_6 (Conv2D)            (None, 98, 98, 32)        896       \n",
            "_________________________________________________________________\n",
            "activation_10 (Activation)   (None, 98, 98, 32)        0         \n",
            "_________________________________________________________________\n",
            "max_pooling2d_6 (MaxPooling2 (None, 49, 49, 32)        0         \n",
            "_________________________________________________________________\n",
            "conv2d_7 (Conv2D)            (None, 47, 47, 32)        9248      \n",
            "_________________________________________________________________\n",
            "activation_11 (Activation)   (None, 47, 47, 32)        0         \n",
            "_________________________________________________________________\n",
            "max_pooling2d_7 (MaxPooling2 (None, 23, 23, 32)        0         \n",
            "_________________________________________________________________\n",
            "conv2d_8 (Conv2D)            (None, 21, 21, 64)        18496     \n",
            "_________________________________________________________________\n",
            "activation_12 (Activation)   (None, 21, 21, 64)        0         \n",
            "_________________________________________________________________\n",
            "max_pooling2d_8 (MaxPooling2 (None, 10, 10, 64)        0         \n",
            "_________________________________________________________________\n",
            "flatten_2 (Flatten)          (None, 6400)              0         \n",
            "_________________________________________________________________\n",
            "dropout_2 (Dropout)          (None, 6400)              0         \n",
            "_________________________________________________________________\n",
            "dense_4 (Dense)              (None, 1024)              6554624   \n",
            "_________________________________________________________________\n",
            "activation_13 (Activation)   (None, 1024)              0         \n",
            "_________________________________________________________________\n",
            "dense_5 (Dense)              (None, 100)               102500    \n",
            "_________________________________________________________________\n",
            "activation_14 (Activation)   (None, 100)               0         \n",
            "=================================================================\n",
            "Total params: 6,685,764\n",
            "Trainable params: 6,685,764\n",
            "Non-trainable params: 0\n",
            "_________________________________________________________________\n"
          ],
          "name": "stdout"
        }
      ]
    }
  ]
}